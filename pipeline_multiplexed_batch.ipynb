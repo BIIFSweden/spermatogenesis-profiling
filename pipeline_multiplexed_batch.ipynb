{
 "cells": [
  {
   "cell_type": "markdown",
   "id": "037219c3",
   "metadata": {},
   "source": [
    "## A pipeline for processing and analyzing multiplexed images\n",
    "\n",
    "#### Related project: A spatial single-cell type map of adult human spermatogenesis (Cecilia Bergström group)"
   ]
  },
  {
   "cell_type": "markdown",
   "id": "3ab48e87",
   "metadata": {},
   "source": [
    "### Import required libraries"
   ]
  },
  {
   "cell_type": "code",
   "execution_count": 1,
   "id": "93749d9b",
   "metadata": {},
   "outputs": [
    {
     "name": "stderr",
     "output_type": "stream",
     "text": [
      "2023-08-14 16:28:13.743880: I tensorflow/core/platform/cpu_feature_guard.cc:182] This TensorFlow binary is optimized to use available CPU instructions in performance-critical operations.\n",
      "To enable the following instructions: AVX2 FMA, in other operations, rebuild TensorFlow with the appropriate compiler flags.\n"
     ]
    }
   ],
   "source": [
    "import numpy as np\n",
    "import pandas as pd\n",
    "import matplotlib.pyplot as plt\n",
    "import os\n",
    "import io\n",
    "\n",
    "# stardist\n",
    "from stardist.models import StarDist2D\n",
    "from stardist.plot import render_label\n",
    "from csbdeep.utils import normalize\n",
    "\n",
    "from skimage import io, filters, measure, segmentation, color, util\n",
    "from skimage.filters import threshold_otsu\n",
    "\n",
    "import warnings\n",
    "warnings.filterwarnings('ignore')\n"
   ]
  },
  {
   "cell_type": "markdown",
   "id": "420c2246",
   "metadata": {},
   "source": [
    "### Defined functions"
   ]
  },
  {
   "cell_type": "code",
   "execution_count": 2,
   "id": "c1b51a8b",
   "metadata": {},
   "outputs": [],
   "source": [
    "def nonzero_intensity_mean(mask: np.ndarray, img: np.ndarray) -> float:\n",
    "    data = img[mask]\n",
    "    data = data[data != 0]\n",
    "    \n",
    "    if data.size != 0:\n",
    "        return np.mean(data)\n",
    "    else:\n",
    "        return 0\n",
    "    \n",
    "def export_table_to_dataframe(tables, cols):\n",
    "    tables = [pd.DataFrame(table) for table in tables] # create dataframe for each table\n",
    "    tables = [table.set_index('label') for table in tables] # reset segmentation label as table index\n",
    "    \n",
    "    mean_intens = pd.concat(tables, axis=1)\n",
    "    mean_intens.columns = cols\n",
    "    return mean_intens\n",
    "\n",
    "def getMeanIntensity(ref_image, labels):\n",
    "    images = [ref_img[(x),:,:] for x in range(ref_img.shape[0])]\n",
    "\n",
    "    properties = ['label', 'intensity_mean']\n",
    "    \n",
    "    tables = [measure.regionprops_table(labels, image, properties=properties)\n",
    "              for image in images]\n",
    "    mean_intens = export_table_to_dataframe(tables, cols)\n",
    "    \n",
    "    return mean_intens\n",
    "\n",
    "def getNonZeroMeanIntensity(ref_image, labels, path, outpath):\n",
    "    images = [ref_img[(x),:,:] for x in range(ref_img.shape[0])] # for each channel\n",
    "    \n",
    "    # get enlarged-labels image as a binary mask\n",
    "    enlarged_binary_mask = enlarged_labels.copy()\n",
    "    enlarged_binary_mask[enlarged_binary_mask > 0] = 1\n",
    "\n",
    "    tables = []\n",
    "    i = 0\n",
    "    for img in images:\n",
    "\n",
    "        filteredByNucleiMask = enlarged_binary_mask * img # for each channel, exclude regions that are outside of the cellular region defined by the segmentation segmentation\n",
    "\n",
    "        if i == 0: # nuclei image, copy original labeled mask\n",
    "            thresholded = enlarged_binary_mask\n",
    "\n",
    "        elif i==2: # 520 channel, read mask from Ilastik segmentation\n",
    "\n",
    "            # load mask image\n",
    "            label520 = io.imread(os.path.join(path, ilastik_mask))\n",
    "            thresholded = (label520 == 1) * 1\n",
    "\n",
    "        else:\n",
    "            thr = threshold_otsu(filteredByNucleiMask)\n",
    "            thresholded = (img >= thr) * 1\n",
    "\n",
    "        io.imsave(outpath + '/filteredByNucleiMask_' + cols[i] + '.tif', filteredByNucleiMask)\n",
    "        io.imsave(outpath + '/filteredByNucleiMask_intens_' + cols[i] + '.tif', filteredByNucleiMask*thresholded)\n",
    "        io.imsave(outpath + '/binary_' + cols[i] + '.tif', util.img_as_ubyte(thresholded*255))\n",
    "\n",
    "        nonzero_intensity_means = measure.regionprops_table(labels, filteredByNucleiMask*thresholded, properties=['label'], extra_properties=[nonzero_intensity_mean])\n",
    "        tables.append(nonzero_intensity_means)\n",
    "        i=i+1\n",
    "\n",
    "    mean_intens = export_table_to_dataframe(tables, cols)\n",
    "    \n",
    "    return mean_intens"
   ]
  },
  {
   "cell_type": "markdown",
   "id": "6567f086",
   "metadata": {},
   "source": [
    "### Define input path, image of interest and other parameters"
   ]
  },
  {
   "cell_type": "code",
   "execution_count": 3,
   "id": "1e18c2b8",
   "metadata": {},
   "outputs": [],
   "source": [
    "# define input path\n",
    "inputpath = '/Users/giselemiranda/ToOneDrive/BIIF/projects/Feria_Cecilia/input/' # example '/Users/projects/'\n",
    "runBioEngine = False\n",
    "\n",
    "# channel sequence\n",
    "cols = ['DAPI','OPAL480','OPAL520','OPAL570','OPAL620','OPAL690','OPAL780','Autofluorescence']"
   ]
  },
  {
   "cell_type": "markdown",
   "id": "684032bd",
   "metadata": {},
   "source": [
    "### Run batch"
   ]
  },
  {
   "cell_type": "code",
   "execution_count": 4,
   "id": "6148435a",
   "metadata": {},
   "outputs": [
    {
     "name": "stdout",
     "output_type": "stream",
     "text": [
      "nuclei: loaded  (3996, 3996)\n",
      "Found model '2D_versatile_fluo' for 'StarDist2D'.\n",
      "Loading network weights from 'weights_best.h5'.\n",
      "Loading thresholds from 'thresholds.json'.\n",
      "Using default values: prob_thresh=0.479071, nms_thresh=0.3.\n",
      "1/1 [==============================] - 8s 8s/step\n",
      "nuclei: loaded  (3996, 3996)\n",
      "Found model '2D_versatile_fluo' for 'StarDist2D'.\n",
      "Loading network weights from 'weights_best.h5'.\n",
      "Loading thresholds from 'thresholds.json'.\n",
      "Using default values: prob_thresh=0.479071, nms_thresh=0.3.\n",
      "1/1 [==============================] - 7s 7s/step\n"
     ]
    }
   ],
   "source": [
    "for imgID in os.listdir(inputpath):\n",
    "    subdir = os.path.join(inputpath, imgID)\n",
    "    \n",
    "    if os.path.isdir(subdir):\n",
    "        \n",
    "        ref_image = ''\n",
    "        ilastik_mask = ''\n",
    "    \n",
    "        # process subdirectory to get input file and ilastik mask\n",
    "        for file in os.listdir(subdir):\n",
    "            if 'component_data.tif' in file:\n",
    "                ref_image = file\n",
    "            if 'Simple Segmentation.tiff' in file:\n",
    "                ilastik_mask = file\n",
    "\n",
    "        # if files are found, then continue processing\n",
    "        if len(ref_image) > 0 and len(ilastik_mask) > 0:\n",
    "\n",
    "            # create output path\n",
    "            outpath = os.path.join(subdir, 'output')\n",
    "            if not os.path.exists(outpath):\n",
    "                os.makedirs(outpath)\n",
    "\n",
    "            # read reference image\n",
    "            ref_img = io.imread(os.path.join(subdir, ref_image))\n",
    "\n",
    "            # select DAPI channel\n",
    "            nuclei = ref_img[0,:,:]\n",
    "            print(\"nuclei: loaded \", nuclei.shape)\n",
    "\n",
    "            # run StarDist\n",
    "            model = StarDist2D.from_pretrained('2D_versatile_fluo') # load pretrained model\n",
    "            labels, _ = model.predict_instances(normalize(nuclei)) # get predictions for nuclei \n",
    "\n",
    "            # get binary mask\n",
    "            binary_mask = labels.copy()\n",
    "            binary_mask[binary_mask > 0] = 1\n",
    "\n",
    "            # save labels and binary\n",
    "            io.imsave(outpath + '/DAPI_labels.tif',labels)\n",
    "            io.imsave(outpath + '/DAPI_binary.tif',util.img_as_ubyte(binary_mask*255))\n",
    "\n",
    "            # expand labels to incorporate cells' neighborhoods\n",
    "            enlarged_labels = segmentation.expand_labels(labels, distance=3)\n",
    "            io.imsave(outpath + '/DAPI_labels_enlarged.tif',enlarged_labels)\n",
    "\n",
    "            # get mean fluorescence intensity for each nuclei and for each channel\n",
    "            mean_intens = getMeanIntensity(ref_image, labels)\n",
    "            mean_intens.to_csv(os.path.join(outpath, 'mean_intensity.csv'), sep=';')\n",
    "\n",
    "            # get mean fluorescence intensity for each nuclei and for each channel, given the thresholded masks\n",
    "            mean_intens = getNonZeroMeanIntensity(ref_image, labels, subdir, outpath)\n",
    "            mean_intens.to_csv(os.path.join(outpath, 'mean_intensity_threshold.csv'), sep=';')\n",
    "        "
   ]
  },
  {
   "cell_type": "code",
   "execution_count": null,
   "id": "27c22277",
   "metadata": {},
   "outputs": [],
   "source": []
  }
 ],
 "metadata": {
  "kernelspec": {
   "display_name": "Python 3",
   "language": "python",
   "name": "python3"
  },
  "language_info": {
   "codemirror_mode": {
    "name": "ipython",
    "version": 3
   },
   "file_extension": ".py",
   "mimetype": "text/x-python",
   "name": "python",
   "nbconvert_exporter": "python",
   "pygments_lexer": "ipython3",
   "version": "3.9.12"
  }
 },
 "nbformat": 4,
 "nbformat_minor": 5
}
