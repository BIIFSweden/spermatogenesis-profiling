{
 "cells": [
  {
   "cell_type": "markdown",
   "id": "037219c3",
   "metadata": {},
   "source": [
    "## A pipeline for processing and analyzing multiplexed images\n",
    "\n",
    "#### Related project: A spatial single-cell type map of adult human spermatogenesis (Cecilia Bergström group)"
   ]
  },
  {
   "cell_type": "markdown",
   "id": "3ab48e87",
   "metadata": {},
   "source": [
    "### Import required libraries"
   ]
  },
  {
   "cell_type": "code",
   "execution_count": null,
   "id": "93749d9b",
   "metadata": {},
   "outputs": [],
   "source": [
    "import numpy as np\n",
    "import pandas as pd\n",
    "import matplotlib.pyplot as plt\n",
    "import os\n",
    "import io\n",
    "\n",
    "# stardist\n",
    "from stardist.models import StarDist2D\n",
    "from stardist.plot import render_label\n",
    "from csbdeep.utils import normalize\n",
    "\n",
    "from skimage import io, filters, measure, segmentation, color, util\n",
    "from skimage.filters import threshold_otsu\n",
    "\n",
    "import warnings\n",
    "warnings.filterwarnings('ignore')\n"
   ]
  },
  {
   "cell_type": "markdown",
   "id": "6567f086",
   "metadata": {},
   "source": [
    "### Define input path, image of interest and other parameters"
   ]
  },
  {
   "cell_type": "code",
   "execution_count": null,
   "id": "1e18c2b8",
   "metadata": {},
   "outputs": [],
   "source": [
    "# define input path\n",
    "inputpath = '/Users/projects/'\n",
    "ref_image = '20456931_Core[1,2,A]_[13058,43408]_component_data.tif'\n",
    "ilastik_mask = '20456931_Core1,2,A_13058,43408_component_data_520_Simple Segmentation.tiff'\n",
    "\n",
    "# set to 'True' if running segmentation on the BioEngine\n",
    "runBioEngine = False\n",
    "# set distance to used to grow the nuclei after segmentation\n",
    "dist = 3\n",
    "\n",
    "# create output path\n",
    "outpath = os.path.join(inputpath, 'output')\n",
    "if not os.path.exists(outpath):\n",
    "    os.makedirs(outpath)\n",
    "\n"
   ]
  },
  {
   "cell_type": "markdown",
   "id": "a67359cd",
   "metadata": {},
   "source": [
    "### Load image of interest and define nuclei channel"
   ]
  },
  {
   "cell_type": "code",
   "execution_count": null,
   "id": "bfdd61a8",
   "metadata": {},
   "outputs": [],
   "source": [
    "# read reference image\n",
    "ref_img = io.imread(os.path.join(inputpath, ref_image))\n",
    "\n",
    "# select DAPI channel\n",
    "nuclei = ref_img[0,:,:]\n",
    "print(\"nuclei: loaded \", nuclei.shape)"
   ]
  },
  {
   "cell_type": "markdown",
   "id": "8417fb4d",
   "metadata": {},
   "source": [
    "### Run StarDist on the DAPI channel and save both label and binary masks"
   ]
  },
  {
   "cell_type": "code",
   "execution_count": null,
   "id": "a34faa0a",
   "metadata": {},
   "outputs": [],
   "source": [
    "## Following example notebook from https://github.com/stardist/stardist\n",
    "\n",
    "# prints a list of available models\n",
    "#StarDist2D.from_pretrained()\n",
    "\n",
    "if runBioEngine: ## Alternatively, run StarDist on the BioEngine (https://bioimage.io/#/)\n",
    "    try:\n",
    "        # For pyodide in the browser\n",
    "        import micropip\n",
    "        await micropip.install(['pyotritonclient', 'kaibu-utils'])\n",
    "    except ImportError:\n",
    "        # For native python with pip\n",
    "        import subprocess\n",
    "        subprocess.call(['pip', 'install', 'pyotritonclient', 'kaibu-utils'])\n",
    "\n",
    "    from PIL import Image\n",
    "    from pyotritonclient import execute\n",
    "    from kaibu_utils import fetch_image\n",
    "    \n",
    "    # obtain the model config\n",
    "    image = nuclei.astype('uint16')\n",
    "    param = {'diameter': 30}\n",
    "\n",
    "    # run inference\n",
    "    results = await execute([image, param],\n",
    "                                  server_url='https://ai.imjoy.io/triton',\n",
    "                                  model_name='stardist',\n",
    "                                  decode_bytes=True)\n",
    "    labels = results['mask']\n",
    "    \n",
    "else: ## Run StarDist locally\n",
    "    model = StarDist2D.from_pretrained('2D_versatile_fluo') # load pretrained model\n",
    "    labels, _ = model.predict_instances(normalize(nuclei)) # get predictions for nuclei \n",
    "\n",
    "# get binary mask\n",
    "binary_mask = labels.copy()\n",
    "binary_mask[binary_mask > 0] = 1\n",
    "\n",
    "io.imsave(outpath + '/DAPI_labels.tif',labels)\n",
    "io.imsave(outpath + '/DAPI_binary.tif',util.img_as_ubyte(binary_mask*255))\n"
   ]
  },
  {
   "cell_type": "markdown",
   "id": "b735b0f5",
   "metadata": {},
   "source": [
    "### Display segmentation output for the DAPI image"
   ]
  },
  {
   "cell_type": "code",
   "execution_count": null,
   "id": "b6aca37b",
   "metadata": {},
   "outputs": [],
   "source": [
    "# display the output\n",
    "fig, (ax1, ax2) = plt.subplots(1, 2, figsize=(10, 10))\n",
    "ax1.imshow(nuclei, cmap=\"gray\", vmin=0, vmax=np.amax(nuclei))\n",
    "ax1.axis(\"off\")\n",
    "ax1.set_title('input image')\n",
    "\n",
    "ax2.imshow(render_label(labels, img=nuclei))\n",
    "ax2.axis(\"off\")\n",
    "ax2.set_title('prediction + input overlay')\n"
   ]
  },
  {
   "cell_type": "markdown",
   "id": "633d31df",
   "metadata": {},
   "source": [
    "### Expand labels to incorporate cells' neighborhoods"
   ]
  },
  {
   "cell_type": "code",
   "execution_count": null,
   "id": "3a3a5d1a",
   "metadata": {},
   "outputs": [],
   "source": [
    "enlarged_labels = segmentation.expand_labels(labels, distance=dist)\n",
    "\n",
    "io.imsave(outpath + '/DAPI_labels_enlarged.tif',enlarged_labels)\n",
    "\n",
    "# Show the segmentations.\n",
    "fig, axes = plt.subplots(\n",
    "    nrows=1,\n",
    "    ncols=3,\n",
    "    figsize=(9, 5),\n",
    "    sharex=True,\n",
    "    sharey=True,\n",
    ")\n",
    "\n",
    "axes[0].imshow(nuclei, cmap=\"gray\", vmin=0, vmax=np.amax(nuclei))\n",
    "axes[0].set_title(\"Original\")\n",
    "\n",
    "axes[1].imshow(render_label(labels, img=nuclei))\n",
    "axes[1].set_title(\"Labels\")\n",
    "\n",
    "axes[2].imshow(render_label(enlarged_labels, img=nuclei))\n",
    "axes[2].set_title(\"Expanded labels\")\n",
    "\n",
    "for a in axes:\n",
    "    a.axis(\"off\")\n",
    "fig.tight_layout()\n",
    "plt.show()\n"
   ]
  },
  {
   "cell_type": "markdown",
   "id": "8d1f59b9",
   "metadata": {},
   "source": [
    "### Retrieve quantitative measures\n",
    "#### Get mean fluorescence intensity for each nuclei and for each channel and save results on a dataframe\n"
   ]
  },
  {
   "cell_type": "code",
   "execution_count": null,
   "id": "c1b51a8b",
   "metadata": {},
   "outputs": [],
   "source": [
    "def nonzero_intensity_mean(mask: np.ndarray, img: np.ndarray) -> float:\n",
    "    data = img[mask]\n",
    "    data = data[data != 0]\n",
    "    \n",
    "    if data.size != 0:\n",
    "        return np.mean(data)\n",
    "    else:\n",
    "        return 0\n",
    "    \n",
    "    \n",
    "def export_table_to_dataframe(tables, cols):\n",
    "    tables = [pd.DataFrame(table) for table in tables] # create dataframe for each table\n",
    "    tables = [table.set_index('label') for table in tables] # reset segmentation label as table index\n",
    "    \n",
    "    mean_intens = pd.concat(tables, axis=1)\n",
    "    mean_intens.columns = cols\n",
    "    return mean_intens\n"
   ]
  },
  {
   "cell_type": "code",
   "execution_count": null,
   "id": "de02a71e",
   "metadata": {},
   "outputs": [],
   "source": [
    "images = [ref_img[(x),:,:] for x in range(ref_img.shape[0])]\n",
    "\n",
    "properties = ['label', 'intensity_mean']\n",
    "cols = ['DAPI','OPAL480','OPAL520','OPAL570','OPAL620','OPAL690','OPAL780','Autofluorescence']\n",
    "\n",
    "tables = [measure.regionprops_table(labels, image, properties=properties)\n",
    "          for image in images]\n",
    "mean_intens = export_table_to_dataframe(tables, cols)\n",
    "mean_intens.to_csv(os.path.join(outpath, 'mean_intensity.csv'), sep=';')\n",
    "mean_intens\n",
    "\n",
    "nBins = 50\n",
    "ax = mean_intens.hist(bins=nBins, grid=False, figsize=(15,10), color='#86bf91', zorder=2, rwidth=0.9)"
   ]
  },
  {
   "cell_type": "markdown",
   "id": "4382edb0",
   "metadata": {},
   "source": [
    "#### Get mean fluorescence intensity for each nuclei and for each channel, given the thresholded masks, and save results on a dataframe"
   ]
  },
  {
   "cell_type": "code",
   "execution_count": null,
   "id": "f05986df",
   "metadata": {},
   "outputs": [],
   "source": [
    "images = [ref_img[(x),:,:] for x in range(ref_img.shape[0])] # for each channel\n",
    "cols = ['DAPI','OPAL480','OPAL520','OPAL570','OPAL620','OPAL690','OPAL780','Autofluorescence']\n",
    "\n",
    "# get enlarged-labels image as a binary mask\n",
    "enlarged_binary_mask = enlarged_labels.copy()\n",
    "enlarged_binary_mask[enlarged_binary_mask > 0] = 1\n",
    "\n",
    "tables = []\n",
    "i = 0\n",
    "for img in images:\n",
    "        \n",
    "    filteredByNucleiMask = enlarged_binary_mask * img # for each channel, exclude regions that are outside of the cellular region defined by the segmentation segmentation\n",
    "\n",
    "    if i == 0: # nuclei image, copy original labeled mask\n",
    "        thresholded = enlarged_binary_mask\n",
    "        \n",
    "    elif i==2: # 520 channel, read mask from Ilastik segmentation\n",
    "\n",
    "        # load mask image\n",
    "        label520 = io.imread(os.path.join(inputpath, ilastik_mask))\n",
    "        thresholded = (label520 == 1) * 1\n",
    "\n",
    "    else:\n",
    "        thr = threshold_otsu(filteredByNucleiMask)\n",
    "        thresholded = (img >= thr) * 1\n",
    "\n",
    "    #io.imsave(outpath + '/filteredByNucleiMask_' + cols[i] + '.tif', filteredByNucleiMask)\n",
    "    io.imsave(outpath + '/filteredByNucleiMask_intens_' + cols[i] + '.tif', filteredByNucleiMask*thresholded)\n",
    "    io.imsave(outpath + '/binary_' + cols[i] + '.tif', util.img_as_ubyte(thresholded*255))\n",
    "\n",
    "    nonzero_intensity_means = measure.regionprops_table(labels, filteredByNucleiMask*thresholded, properties=['label'], extra_properties=[nonzero_intensity_mean])\n",
    "    tables.append(nonzero_intensity_means)\n",
    "    i=i+1\n",
    "\n",
    "mean_intens = export_table_to_dataframe(tables, cols)\n",
    "mean_intens.to_csv(os.path.join(outpath, 'mean_intensity_threshold.csv'), sep=';')\n",
    "mean_intens\n",
    "\n",
    "nBins = 50\n",
    "ax = mean_intens.hist(bins=nBins, grid=False, figsize=(15,10), color='#86bf91', zorder=2, rwidth=0.9)"
   ]
  },
  {
   "cell_type": "code",
   "execution_count": null,
   "id": "bc0e076c",
   "metadata": {},
   "outputs": [],
   "source": []
  }
 ],
 "metadata": {
  "kernelspec": {
   "display_name": "Python 3",
   "language": "python",
   "name": "python3"
  },
  "language_info": {
   "codemirror_mode": {
    "name": "ipython",
    "version": 3
   },
   "file_extension": ".py",
   "mimetype": "text/x-python",
   "name": "python",
   "nbconvert_exporter": "python",
   "pygments_lexer": "ipython3",
   "version": "3.9.12"
  }
 },
 "nbformat": 4,
 "nbformat_minor": 5
}
