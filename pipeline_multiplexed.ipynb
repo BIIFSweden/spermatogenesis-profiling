{
 "cells": [
  {
   "cell_type": "code",
   "execution_count": null,
   "id": "93749d9b",
   "metadata": {},
   "outputs": [],
   "source": [
    "import numpy as np\n",
    "import pandas as pd\n",
    "import matplotlib.pyplot as plt\n",
    "import os\n",
    "\n",
    "from skimage import io, filters, measure\n",
    "\n",
    "import warnings\n",
    "warnings.filterwarnings('ignore')"
   ]
  },
  {
   "cell_type": "code",
   "execution_count": null,
   "id": "bfdd61a8",
   "metadata": {},
   "outputs": [],
   "source": [
    "# define input path\n",
    "inputpath = '' # example '/Users/projects/'\n",
    "\n",
    "# read reference image\n",
    "ref_img = io.imread(os.path.join(inputpath, '20460260_Scan1_Core[1,2,A]_[12663,40371]_component_data.tif - resolution #3.tif'))\n",
    "nuclei = ref_img[0,:,:]"
   ]
  },
  {
   "cell_type": "code",
   "execution_count": null,
   "id": "a34faa0a",
   "metadata": {},
   "outputs": [],
   "source": [
    "from stardist.models import StarDist2D\n",
    "from stardist.plot import render_label\n",
    "from csbdeep.utils import normalize\n",
    "\n",
    "# prints a list of available models\n",
    "StarDist2D.from_pretrained()\n",
    "\n",
    "# creates a pretrained model\n",
    "model = StarDist2D.from_pretrained('2D_versatile_fluo')\n",
    "\n",
    "# get predictions for nuclei \n",
    "labels, _ = model.predict_instances(normalize(nuclei))\n",
    "\n",
    "# get binary mask\n",
    "binary_mask = labels.copy()\n",
    "binary_mask[binary_mask > 0] = 1\n",
    "\n",
    "io.imsave(inputpath + 'labels.tif',labels)\n",
    "io.imsave(inputpath + 'binary.tif',binary_mask)"
   ]
  },
  {
   "cell_type": "code",
   "execution_count": null,
   "id": "b6aca37b",
   "metadata": {},
   "outputs": [],
   "source": [
    "# display the output\n",
    "fig, (ax1, ax2) = plt.subplots(1, 2, figsize=(10, 10))\n",
    "ax1.imshow(nuclei, cmap=\"gray\", vmin=0, vmax=np.amax(nuclei))\n",
    "ax1.axis(\"off\")\n",
    "ax1.set_title('input image')\n",
    "\n",
    "ax2.imshow(render_label(labels, img=nuclei))\n",
    "ax2.axis(\"off\")\n",
    "ax2.set_title('prediction + input overlay')\n"
   ]
  },
  {
   "cell_type": "code",
   "execution_count": null,
   "id": "7407a969",
   "metadata": {},
   "outputs": [],
   "source": [
    "from skimage.filters import threshold_otsu\n",
    "\n",
    "# save measures for all channels in a dictionary\n",
    "#measures = {} \n",
    "\n",
    "# for each channel excluding nuclei channel\n",
    "for x in range(ref_img.shape[0]-1):\n",
    "    print(\"\\n\" +\"-\"*20)\n",
    "    print('channel: ', x+2)\n",
    "    \n",
    "    # select channel to be analyzed\n",
    "    ref_channel = ref_img[(x+1),:,:]\n",
    "    \n",
    "    # get threshold value\n",
    "    threshold = filters.threshold_otsu(ref_channel) # get threshold value\n",
    "    print('threshold: ', threshold)\n",
    "    \n",
    "    if x == 0: # then, get shape measurements\n",
    "        props_shape = measure.regionprops_table(labels, ref_channel, properties=['label','area','axis_major_length',\n",
    "                                                                       'axis_minor_length','feret_diameter_max'])\n",
    "        \n",
    "    props_intens = measure.regionprops_table(labels, ref_channel, properties=['intensity_max','intensity_min',\n",
    "                                                                              'intensity_mean'])\n",
    "    if x == 0:\n",
    "        props = pd.concat([pd.DataFrame(props_shape), pd.DataFrame(props_intens)], axis=1)\n",
    "    else:\n",
    "        props = pd.concat([pd.DataFrame(props), pd.DataFrame(props_intens)], axis=1)\n",
    "        \n",
    "props.to_csv(os.path.join(inputpath, 'measures.csv'))\n",
    "    "
   ]
  }
 ],
 "metadata": {
  "kernelspec": {
   "display_name": "Python 3",
   "language": "python",
   "name": "python3"
  },
  "language_info": {
   "codemirror_mode": {
    "name": "ipython",
    "version": 3
   },
   "file_extension": ".py",
   "mimetype": "text/x-python",
   "name": "python",
   "nbconvert_exporter": "python",
   "pygments_lexer": "ipython3",
   "version": "3.9.12"
  }
 },
 "nbformat": 4,
 "nbformat_minor": 5
}
